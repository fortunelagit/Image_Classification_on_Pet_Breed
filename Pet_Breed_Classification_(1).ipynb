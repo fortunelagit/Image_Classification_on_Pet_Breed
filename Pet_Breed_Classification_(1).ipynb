{
  "nbformat": 4,
  "nbformat_minor": 0,
  "metadata": {
    "colab": {
      "provenance": [],
      "include_colab_link": true
    },
    "kernelspec": {
      "name": "python3",
      "display_name": "Python 3"
    },
    "language_info": {
      "name": "python"
    },
    "gpuClass": "standard"
  },
  "cells": [
    {
      "cell_type": "markdown",
      "metadata": {
        "id": "view-in-github",
        "colab_type": "text"
      },
      "source": [
        "<a href=\"https://colab.research.google.com/github/fortunelagit/Image_Classification_on_Pet_Breed/blob/main/Pet_Breed_Classification_(1).ipynb\" target=\"_parent\"><img src=\"https://colab.research.google.com/assets/colab-badge.svg\" alt=\"Open In Colab\"/></a>"
      ]
    },
    {
      "cell_type": "markdown",
      "source": [
        "**Pet Breed Classsification using CNN**"
      ],
      "metadata": {
        "id": "Ir_WdoDuPjNP"
      }
    },
    {
      "cell_type": "markdown",
      "source": [
        "1. Mount dataset yang sudah dibagi menjadi folder berdasarkan classnya."
      ],
      "metadata": {
        "id": "4GFU4l3bPsiL"
      }
    },
    {
      "cell_type": "code",
      "source": [
        "from google.colab import drive\n",
        "drive.mount('/content/drive')"
      ],
      "metadata": {
        "id": "6s2TOJtLAhbd",
        "colab": {
          "base_uri": "https://localhost:8080/"
        },
        "outputId": "2ecc18b2-cec5-41fb-cb02-177b9bc4d7cf"
      },
      "execution_count": 12,
      "outputs": [
        {
          "output_type": "stream",
          "name": "stdout",
          "text": [
            "Drive already mounted at /content/drive; to attempt to forcibly remount, call drive.mount(\"/content/drive\", force_remount=True).\n"
          ]
        }
      ]
    },
    {
      "cell_type": "markdown",
      "source": [
        "Pastikan dataset untuk training terdiri dari 37 class."
      ],
      "metadata": {
        "id": "wM02WSu4QESj"
      }
    },
    {
      "cell_type": "code",
      "source": [
        "import os\n",
        "\n",
        "dir = '/content/drive/MyDrive/01_dataset_pet/pet_breed_dataset'\n",
        "\n",
        "data_dir_list = os.listdir(dir)\n",
        "print('Folders :', os.listdir(dir))\n",
        "classes = sorted(os.listdir(dir+'/train'))\n",
        "file_count = len(classes)\n",
        "print(len(classes), 'class', classes)"
      ],
      "metadata": {
        "id": "Ci-QpHoKHL9x",
        "colab": {
          "base_uri": "https://localhost:8080/"
        },
        "outputId": "ae84e3ef-16c1-4aab-ce42-732d5599c370"
      },
      "execution_count": 13,
      "outputs": [
        {
          "output_type": "stream",
          "name": "stdout",
          "text": [
            "Folders : ['train', 'final_test', '.ipynb_checkpoints']\n",
            "37 class ['Abyssinian', 'American_Bulldog', 'American_Pitbull_Terrier', 'Basset_Hound', 'Beagle', 'Bengal', 'Birman', 'Bombay', 'Boxer', 'British_Shorthair', 'Chihuahua', 'Egyptian_Mau', 'English_Cocker_Spaniel', 'English_Setter', 'German_Shorthaired', 'Great_Pyrenees', 'Havanese', 'Japanese_Chin', 'Keeshond', 'Leonberger', 'Maine_Coon', 'Miniature_Pinscher', 'Newfoundland', 'Persian', 'Pomeranian', 'Pug', 'Ragdoll', 'Russian_Blue', 'Saint_Bernard', 'Samoyed', 'Scottish_Terrier', 'Shiba_Inu', 'Siamese', 'Sphynx', 'Staffordshire_Bull_Terrier', 'Wheaten_Terrier', 'Yorkshire_Terrier']\n"
          ]
        }
      ]
    },
    {
      "cell_type": "markdown",
      "source": [
        "2. Split dataset training menjadi 2 bagian untuk training dan validation."
      ],
      "metadata": {
        "id": "Zi6f5QJYQOlK"
      }
    },
    {
      "cell_type": "code",
      "source": [
        "train_dataset_dir = '/content/drive/MyDrive/01_dataset_pet/pet_breed_dataset/train/'\n",
        "base_dir = '/content/dataset/'\n",
        "os.mkdir(base_dir)"
      ],
      "metadata": {
        "id": "VOb_qhaxGWcz"
      },
      "execution_count": 15,
      "outputs": []
    },
    {
      "cell_type": "code",
      "source": [
        "train_dir = os.path.join(base_dir, 'train')\n",
        "os.mkdir(train_dir)\n",
        "\n",
        "validation_dir = os.path.join(base_dir, 'validation')\n",
        "os.mkdir(validation_dir)\n",
        "\n",
        "test_dir = os.path.join(base_dir, 'test')\n",
        "os.mkdir(test_dir)\n",
        "\n",
        "for i in classes:\n",
        "  train_class_dir = os.path.join(train_dir, i)\n",
        "  os.mkdir(train_class_dir)\n",
        "\n",
        "  valid_class_dir = os.path.join(validation_dir, i)\n",
        "  os.mkdir(valid_class_dir)\n",
        "\n",
        "  #test_class_dir = os.path.join(test_dir, i)\n",
        "  #os.mkdir(test_class_dir)"
      ],
      "metadata": {
        "id": "cWbTYu-eJ9RG"
      },
      "execution_count": 16,
      "outputs": []
    },
    {
      "cell_type": "code",
      "source": [
        "print(classes)"
      ],
      "metadata": {
        "id": "iA6QKmXXwKzI",
        "colab": {
          "base_uri": "https://localhost:8080/"
        },
        "outputId": "38191c4d-f04d-4380-d4a3-22800cb43530"
      },
      "execution_count": 17,
      "outputs": [
        {
          "output_type": "stream",
          "name": "stdout",
          "text": [
            "['Abyssinian', 'American_Bulldog', 'American_Pitbull_Terrier', 'Basset_Hound', 'Beagle', 'Bengal', 'Birman', 'Bombay', 'Boxer', 'British_Shorthair', 'Chihuahua', 'Egyptian_Mau', 'English_Cocker_Spaniel', 'English_Setter', 'German_Shorthaired', 'Great_Pyrenees', 'Havanese', 'Japanese_Chin', 'Keeshond', 'Leonberger', 'Maine_Coon', 'Miniature_Pinscher', 'Newfoundland', 'Persian', 'Pomeranian', 'Pug', 'Ragdoll', 'Russian_Blue', 'Saint_Bernard', 'Samoyed', 'Scottish_Terrier', 'Shiba_Inu', 'Siamese', 'Sphynx', 'Staffordshire_Bull_Terrier', 'Wheaten_Terrier', 'Yorkshire_Terrier']\n"
          ]
        }
      ]
    },
    {
      "cell_type": "code",
      "source": [
        "import csv\n",
        "\n",
        "with open(base_dir + 'test_set.csv', 'w') as outfile:\n",
        "  csv_writer = csv.writer(outfile)\n",
        "  line = ['filename','class']\n",
        "  csv_writer.writerow(line)"
      ],
      "metadata": {
        "id": "v1XjTsMw5gtn"
      },
      "execution_count": 37,
      "outputs": []
    },
    {
      "cell_type": "code",
      "source": [
        "import random\n",
        "import shutil\n",
        "\n",
        "def split_data(SOURCE, TRAINING, VALIDATION, TESTING, SPLIT_SIZE, CLASS_INDEX):\n",
        "    files = []\n",
        "    for filename in os.listdir(SOURCE):\n",
        "        file = SOURCE + filename\n",
        "        if os.path.getsize(file) > 0:\n",
        "            #print(filename)\n",
        "            files.append(filename)\n",
        "        else:\n",
        "            print(filename + \" is zero length, so ignoring.\")\n",
        "\n",
        "    valid_size = 0.85\n",
        "    training_length = int(len(files) * SPLIT_SIZE)\n",
        "    valid_length = int((len(files) - training_length)*valid_size)\n",
        "    test_length = int((len(files) - training_length)*(1-valid_size))\n",
        "\n",
        "    shuffled_set = random.sample(files, len(files))\n",
        "    training_set = shuffled_set[0:training_length]\n",
        "    valid_set = shuffled_set[training_length:training_length+valid_length]\n",
        "    test_set = shuffled_set[training_length+valid_length:]\n",
        "\n",
        "    for filename in training_set:\n",
        "        this_file = SOURCE + filename\n",
        "        destination = TRAINING + filename\n",
        "        shutil.copyfile(this_file, destination)\n",
        "\n",
        "    for filename in valid_set:\n",
        "        this_file = SOURCE + filename\n",
        "        destination = VALIDATION + filename\n",
        "        shutil.copyfile(this_file, destination)\n",
        "    \n",
        "    for filename in test_set:\n",
        "        this_file = SOURCE + filename\n",
        "        destination = TESTING + filename\n",
        "        shutil.copyfile(this_file, destination)\n",
        "        with open(base_dir + 'test_set.csv', 'a') as outfile:\n",
        "          csv_writer = csv.writer(outfile)\n",
        "          line = [filename,CLASS_INDEX]\n",
        "          csv_writer.writerow(line)"
      ],
      "metadata": {
        "id": "CU8r68alKjYO"
      },
      "execution_count": 35,
      "outputs": []
    },
    {
      "cell_type": "code",
      "source": [
        "split_size = .8\n",
        "\n",
        "source_dir = train_dataset_dir\n",
        "train_dir = os.path.join(base_dir, 'train')\n",
        "valid_dir = os.path.join(base_dir, 'validation')\n",
        "test_dir = os.path.join(base_dir, 'test')\n",
        "\n",
        "classes_index = 0\n",
        "\n",
        "for i in classes:\n",
        "  class_source_dir = os.path.join(source_dir, i)\n",
        "  #print(class_source_dir)\n",
        "  class_train_dir = os.path.join(train_dir, i)\n",
        "  class_valid_dir = os.path.join(valid_dir, i)\n",
        "  #class_test_dir = os.path.join(test_dir, i)\n",
        "\n",
        "  #print(class_train_dir)\n",
        "  split_data(class_source_dir + '/', class_train_dir + '/', class_valid_dir + '/', test_dir + '/', split_size, f'{classes_index}')\n",
        "  classes_index += 1"
      ],
      "metadata": {
        "id": "a2-3GeZZNdii"
      },
      "execution_count": 38,
      "outputs": []
    },
    {
      "cell_type": "markdown",
      "source": [
        "Distribusi dataset untuk Training:"
      ],
      "metadata": {
        "id": "vO6Sr3POQpl5"
      }
    },
    {
      "cell_type": "code",
      "source": [
        "import matplotlib.pyplot as plt\n",
        "import seaborn as sns\n",
        "from matplotlib.image import imread\n",
        "import pathlib\n",
        "\n",
        "nimgs = {}\n",
        "for i in classes:\n",
        "    nimages = len(os.listdir(train_dir + '/' + i + '/'))\n",
        "    nimgs[i]=nimages\n",
        "plt.figure(figsize=(9, 6))\n",
        "plt.bar(range(len(nimgs)), list(nimgs.values()), align='center')\n",
        "plt.xticks(range(len(nimgs)), list(nimgs.keys()))\n",
        "plt.title('Distribution of different classes in Training Dataset')\n",
        "plt.show()"
      ],
      "metadata": {
        "id": "zpHbPrqbQMBd",
        "colab": {
          "base_uri": "https://localhost:8080/",
          "height": 545
        },
        "outputId": "c372f4be-299d-4e4b-abcd-20f6272508c8"
      },
      "execution_count": 39,
      "outputs": [
        {
          "output_type": "display_data",
          "data": {
            "text/plain": [
              "<Figure size 900x600 with 1 Axes>"
            ],
            "image/png": "[encoded data removed]"
          },
          "metadata": {}
        }
      ]
    },
    {
      "cell_type": "code",
      "source": [
        "for i in classes:\n",
        "    print('Training {} images are: '.format(i)+str(len(os.listdir(train_dir + '/' + i + '/'))))"
      ],
      "metadata": {
        "id": "ZB-hOnhZSXIH",
        "colab": {
          "base_uri": "https://localhost:8080/"
        },
        "outputId": "a4829efb-229f-4b4c-a0b1-ed37b5b91193"
      },
      "execution_count": 40,
      "outputs": [
        {
          "output_type": "stream",
          "name": "stdout",
          "text": [
            "Training Abyssinian images are: 198\n",
            "Training American_Bulldog images are: 200\n",
            "Training American_Pitbull_Terrier images are: 200\n",
            "Training Basset_Hound images are: 200\n",
            "Training Beagle images are: 200\n",
            "Training Bengal images are: 198\n",
            "Training Birman images are: 199\n",
            "Training Bombay images are: 184\n",
            "Training Boxer images are: 198\n",
            "Training British_Shorthair images are: 200\n",
            "Training Chihuahua images are: 199\n",
            "Training Egyptian_Mau images are: 190\n",
            "Training English_Cocker_Spaniel images are: 195\n",
            "Training English_Setter images are: 200\n",
            "Training German_Shorthaired images are: 199\n",
            "Training Great_Pyrenees images are: 200\n",
            "Training Havanese images are: 200\n",
            "Training Japanese_Chin images are: 200\n",
            "Training Keeshond images are: 198\n",
            "Training Leonberger images are: 199\n",
            "Training Maine_Coon images are: 199\n",
            "Training Miniature_Pinscher images are: 199\n",
            "Training Newfoundland images are: 194\n",
            "Training Persian images are: 197\n",
            "Training Pomeranian images are: 198\n",
            "Training Pug images are: 197\n",
            "Training Ragdoll images are: 197\n",
            "Training Russian_Blue images are: 199\n",
            "Training Saint_Bernard images are: 197\n",
            "Training Samoyed images are: 199\n",
            "Training Scottish_Terrier images are: 199\n",
            "Training Shiba_Inu images are: 197\n",
            "Training Siamese images are: 197\n",
            "Training Sphynx images are: 197\n",
            "Training Staffordshire_Bull_Terrier images are: 189\n",
            "Training Wheaten_Terrier images are: 194\n",
            "Training Yorkshire_Terrier images are: 190\n"
          ]
        }
      ]
    },
    {
      "cell_type": "markdown",
      "source": [
        "Distibrusi dataset untuk validasi:"
      ],
      "metadata": {
        "id": "mu577zPTQyQy"
      }
    },
    {
      "cell_type": "code",
      "source": [
        "nimgs = {}\n",
        "for i in classes:\n",
        "    nimages = len(os.listdir(valid_dir + '/' + i + '/'))\n",
        "    nimgs[i]=nimages\n",
        "plt.figure(figsize=(9, 6))\n",
        "plt.bar(range(len(nimgs)), list(nimgs.values()), align='center')\n",
        "plt.xticks(range(len(nimgs)), list(nimgs.keys()))\n",
        "plt.title('Distribution of different classes in Validation Dataset')\n",
        "plt.show()"
      ],
      "metadata": {
        "id": "FMPD4xC_Tahw",
        "colab": {
          "base_uri": "https://localhost:8080/",
          "height": 545
        },
        "outputId": "eab6909f-f389-413a-9fbd-759c2cb9bb60"
      },
      "execution_count": 41,
      "outputs": [
        {
          "output_type": "display_data",
          "data": {
            "text/plain": [
              "<Figure size 900x600 with 1 Axes>"
            ],
            "image/png": "[encoded data removed]"
          },
          "metadata": {}
        }
      ]
    },
    {
      "cell_type": "markdown",
      "source": [
        "3. Pembuatan Model CNN"
      ],
      "metadata": {
        "id": "6174uuT8Q4kw"
      }
    },
    {
      "cell_type": "code",
      "source": [
        "from tensorflow.keras.optimizers import Adam\n",
        "from tensorflow.keras.preprocessing.image import ImageDataGenerator\n",
        "from tensorflow.keras.layers import Conv2D, MaxPooling2D, Flatten, Dense, Dropout\n",
        "from tensorflow.keras.models import Sequential\n",
        "from tensorflow.keras.callbacks import EarlyStopping, ModelCheckpoint"
      ],
      "metadata": {
        "id": "WayhJWoNYFB6"
      },
      "execution_count": 42,
      "outputs": []
    },
    {
      "cell_type": "markdown",
      "source": [
        "Ukuran width dan height yang kecil akan mempersingkat waktu training."
      ],
      "metadata": {
        "id": "aRF4OVAqRAG9"
      }
    },
    {
      "cell_type": "code",
      "source": [
        "img_width=300; img_height=300\n",
        "batch_size=32"
      ],
      "metadata": {
        "id": "p63SdV2HYF8P"
      },
      "execution_count": 43,
      "outputs": []
    },
    {
      "cell_type": "code",
      "source": [
        "train_datagen = ImageDataGenerator(rescale = 1/255.0,\n",
        "                                   rotation_range=30,\n",
        "                                   zoom_range=0.4,\n",
        "                                   horizontal_flip=True)\n",
        "\n",
        "train_generator = train_datagen.flow_from_directory(train_dir,\n",
        "                                                    batch_size=batch_size,\n",
        "                                                    class_mode='categorical',\n",
        "                                                    target_size=(img_height, img_width))"
      ],
      "metadata": {
        "id": "qWqQJLaVY0kW",
        "colab": {
          "base_uri": "https://localhost:8080/"
        },
        "outputId": "bde7bc40-e6f3-403e-88a2-3f4ff000474b"
      },
      "execution_count": 44,
      "outputs": [
        {
          "output_type": "stream",
          "name": "stdout",
          "text": [
            "Found 7296 images belonging to 37 classes.\n"
          ]
        }
      ]
    },
    {
      "cell_type": "code",
      "source": [
        "validation_datagen = ImageDataGenerator(rescale = 1/255.0)\n",
        "\n",
        "validation_generator = validation_datagen.flow_from_directory(valid_dir,\n",
        "                                                              batch_size=batch_size,\n",
        "                                                              class_mode='categorical',\n",
        "                                                              target_size=(img_height, img_width)\n",
        "                                                             )"
      ],
      "metadata": {
        "id": "fIZfm8W9ZGEz",
        "colab": {
          "base_uri": "https://localhost:8080/"
        },
        "outputId": "c4d1422e-8dfb-4019-cf95-3d6a019fa2d7"
      },
      "execution_count": 45,
      "outputs": [
        {
          "output_type": "stream",
          "name": "stdout",
          "text": [
            "Found 3516 images belonging to 37 classes.\n"
          ]
        }
      ]
    },
    {
      "cell_type": "markdown",
      "source": [
        "Simpan model terbaik yang dihasilkan."
      ],
      "metadata": {
        "id": "QhTE0AkkRSFh"
      }
    },
    {
      "cell_type": "code",
      "source": [
        "callbacks = EarlyStopping(monitor='val_loss', patience=5, verbose=1, mode='auto')\n",
        "\n",
        "best_model_file = '/content/CNN_aug_best_weights.h5'\n",
        "best_model = ModelCheckpoint(best_model_file, monitor='val_acc', verbose = 1, save_best_only = True)"
      ],
      "metadata": {
        "id": "9eqKRBDeZMs7"
      },
      "execution_count": null,
      "outputs": []
    },
    {
      "cell_type": "code",
      "source": [
        "model = Sequential([\n",
        "    Conv2D(16, (3, 3), activation='relu', input_shape=(img_height, img_width, 3)), MaxPooling2D(2, 2),\n",
        "    Conv2D(32, (3, 3), activation='relu'), \n",
        "    MaxPooling2D(2, 2),\n",
        "    Conv2D(64, (3, 3), activation='relu'),\n",
        "    MaxPooling2D(2, 2),\n",
        "    Conv2D(128, (3, 3), activation='relu'),\n",
        "    MaxPooling2D(2, 2),\n",
        "    Conv2D(256, (3, 3), activation='relu'),\n",
        "    MaxPooling2D(2, 2),\n",
        "    Flatten(),\n",
        "    Dense(512, activation='relu'),\n",
        "    Dense(37, activation='softmax')\n",
        "])\n",
        "model.summary()"
      ],
      "metadata": {
        "id": "TylqnQ1NZX62"
      },
      "execution_count": null,
      "outputs": []
    },
    {
      "cell_type": "markdown",
      "source": [
        "4. Compile Model"
      ],
      "metadata": {
        "id": "OrjX3BopRe6t"
      }
    },
    {
      "cell_type": "code",
      "source": [
        "model.compile(optimizer='Adam', \n",
        "              loss='categorical_crossentropy', \n",
        "              metrics =['accuracy'])"
      ],
      "metadata": {
        "id": "AsmoTl9hZcS-"
      },
      "execution_count": null,
      "outputs": []
    },
    {
      "cell_type": "markdown",
      "source": [
        "5. Training Model"
      ],
      "metadata": {
        "id": "HCBZfKoaRraK"
      }
    },
    {
      "cell_type": "markdown",
      "source": [
        "Fungsi reduce learning rate ditambahkan untuk mitigasi nilai akurasi yang terus turun, yang kemungkinan disebabkan oleh learning rate yang terlalu tinggi."
      ],
      "metadata": {
        "id": "y7gmTR1XRvlL"
      }
    },
    {
      "cell_type": "code",
      "source": [
        "from tensorflow.keras.callbacks import ReduceLROnPlateau\n",
        "import numpy as np\n",
        "\n",
        "reduce_lr = ReduceLROnPlateau(monitor='val_loss', factor=np.sqrt(0.1), patience=5)"
      ],
      "metadata": {
        "id": "hBEeEdD7swZM"
      },
      "execution_count": null,
      "outputs": []
    },
    {
      "cell_type": "code",
      "source": [
        "history = model.fit(train_generator,\n",
        "                              epochs=50,\n",
        "                              verbose=1,\n",
        "                              validation_data=validation_generator,\n",
        "                              callbacks = [best_model, reduce_lr]\n",
        "                              )"
      ],
      "metadata": {
        "id": "itwDoAUIZfm7"
      },
      "execution_count": null,
      "outputs": []
    },
    {
      "cell_type": "code",
      "source": [
        "model.save('/content/drive/MyDrive/01_dataset_pet/pet_breed_dataset/')"
      ],
      "metadata": {
        "id": "BfEqeOis2CQE"
      },
      "execution_count": null,
      "outputs": []
    },
    {
      "cell_type": "markdown",
      "source": [
        "6. Hasil Training"
      ],
      "metadata": {
        "id": "nqn1S-POST6q"
      }
    },
    {
      "cell_type": "markdown",
      "source": [
        "Grafik hasil training dan validasi berdasarkan akurasi:"
      ],
      "metadata": {
        "id": "_Qsd7fUWSZt6"
      }
    },
    {
      "cell_type": "markdown",
      "source": [
        "Terdapat sedikit perbedaan pada grafik training(tertinggi sekitar 0.4)dan validation (tertinggi sekitar 0.7), namun sepertinya tidak begitu jauh untuk dinilai overfitting."
      ],
      "metadata": {
        "id": "Z6IQvfsRS1SZ"
      }
    },
    {
      "cell_type": "code",
      "source": [
        "acc=history.history['accuracy']\n",
        "val_acc=history.history['val_accuracy']\n",
        "loss=history.history['loss']\n",
        "val_loss=history.history['val_loss']\n",
        "\n",
        "epochs=range(len(acc))\n",
        "\n",
        "fig = plt.figure(figsize=(14,7))\n",
        "plt.plot(epochs, acc, 'r', label=\"Training Accuracy\")\n",
        "plt.plot(epochs, val_acc, 'b', label=\"Validation Accuracy\")\n",
        "plt.xlabel('Epoch')\n",
        "plt.ylabel('Accuracy')\n",
        "plt.title('Training and validation accuracy')\n",
        "plt.legend(loc='lower right')\n",
        "plt.show()"
      ],
      "metadata": {
        "id": "dADoDRU0ZiYa"
      },
      "execution_count": null,
      "outputs": []
    },
    {
      "cell_type": "markdown",
      "source": [
        "Grafik training dan validasi berdasarkan loss:"
      ],
      "metadata": {
        "id": "KPGeTWX2TP4G"
      }
    },
    {
      "cell_type": "markdown",
      "source": [
        "Hasil mirip dengan grafik akurasi."
      ],
      "metadata": {
        "id": "GycndYV1Tax0"
      }
    },
    {
      "cell_type": "code",
      "source": [
        "fig2 = plt.figure(figsize=(14,7))\n",
        "plt.plot(epochs, loss, 'r', label=\"Training Loss\")\n",
        "plt.plot(epochs, val_loss, 'b', label=\"Validation Loss\")\n",
        "plt.legend(loc='upper right')\n",
        "plt.xlabel('Epoch')\n",
        "plt.ylabel('Loss')\n",
        "plt.title('Training and validation loss')"
      ],
      "metadata": {
        "id": "cD8u0LzfZi_u"
      },
      "execution_count": null,
      "outputs": []
    },
    {
      "cell_type": "markdown",
      "source": [
        "7. Testing Model"
      ],
      "metadata": {
        "id": "EZp8CBBqTnTQ"
      }
    },
    {
      "cell_type": "code",
      "source": [
        "import pandas as pd\n",
        "import numpy as np\n",
        "from tensorflow.keras.utils import load_img, img_to_array\n",
        "\n",
        "def preprocess_image(path):\n",
        "    img = load_img(path, target_size = (img_height, img_width))\n",
        "    a = img_to_array(img)\n",
        "    a = np.expand_dims(a, axis = 0)\n",
        "    a /= 255.\n",
        "    return a"
      ],
      "metadata": {
        "id": "c6melvX0ZmmQ"
      },
      "execution_count": null,
      "outputs": []
    },
    {
      "cell_type": "code",
      "source": [
        "test_images_dir = os.path.join(base_dir, 'test/')\n",
        "\n",
        "index = 0\n",
        "\n",
        "for i in classes:\n",
        "\n",
        "  with open(base_dir + 'data_test.csv', 'wb') as outfile:\n",
        "    "
      ],
      "metadata": {
        "id": "_u2dnP9xvNQ2"
      },
      "execution_count": null,
      "outputs": []
    },
    {
      "cell_type": "code",
      "source": [
        "test_images_dir = os.path.join(base_dir, 'test/')\n",
        "test_df = pd.read_csv(base_dir + 'test_set.csv')\n",
        "\n",
        "test_dfToList = test_df['filename'].tolist()\n",
        "test_ids = [str(item) for item in test_dfToList]\n",
        "\n",
        "test_images = [test_images_dir + item for item in test_ids]\n",
        "test_preprocessed_images = np.vstack([preprocess_image(fn) for fn in test_images])\n",
        "np.save('/content/test_preproc_CNN.npy', test_preprocessed_images)"
      ],
      "metadata": {
        "id": "L7pHh8NmZsNc"
      },
      "execution_count": null,
      "outputs": []
    },
    {
      "cell_type": "code",
      "source": [
        "array = model.predict(test_preprocessed_images, batch_size=1, verbose=1)\n",
        "answer = np.argmax(array, axis=1)\n",
        "#print(answer)\n",
        "#print(answer[20])"
      ],
      "metadata": {
        "id": "045NyLndF1Fg"
      },
      "execution_count": null,
      "outputs": []
    },
    {
      "cell_type": "code",
      "source": [
        "test_df = pd.read_csv('/content/dataset/final_test.csv')\n",
        "y_true = test_df['breed']\n",
        "y_pred = array\n",
        "#print(y_true[20])\n",
        "#for i in y_true:\n",
        "#  print(y_true[i] + y_pred[i])"
      ],
      "metadata": {
        "id": "i2ayw9fBGA4t"
      },
      "execution_count": null,
      "outputs": []
    },
    {
      "cell_type": "code",
      "source": [
        "from sklearn.metrics import log_loss\n",
        "loss = log_loss(y_true, y_pred, eps=1e-15, normalize=True, sample_weight=None, labels=None)"
      ],
      "metadata": {
        "id": "6YdbZzKTGOWb"
      },
      "execution_count": null,
      "outputs": []
    },
    {
      "cell_type": "markdown",
      "source": [
        "Pembuatan confusion matrix untuk menganalisa prediksi label yang salah."
      ],
      "metadata": {
        "id": "yZMobig0T0a7"
      }
    },
    {
      "cell_type": "code",
      "source": [
        "from sklearn.metrics import confusion_matrix\n",
        "conf_mat = confusion_matrix(y_true, answer)\n",
        "conf_mat"
      ],
      "metadata": {
        "id": "j6gsyv_WOUkb"
      },
      "execution_count": null,
      "outputs": []
    },
    {
      "cell_type": "code",
      "source": [
        "import itertools\n",
        "def plot_confusion_matrix(cm, classes,\n",
        "                          normalize=False,\n",
        "                          title='Confusion matrix',\n",
        "                          cmap=plt.cm.Reds):\n",
        "    plt.imshow(cm, interpolation='nearest', cmap=cmap)\n",
        "    plt.title(title)\n",
        "    plt.colorbar()\n",
        "    tick_marks = np.arange(len(classes))\n",
        "    plt.xticks(tick_marks, classes, rotation=45)\n",
        "    plt.yticks(tick_marks, classes)\n",
        "\n",
        "    if normalize:\n",
        "        cm = cm.astype('float') / cm.sum(axis=1)[:, np.newaxis]\n",
        "        cm = cm.round(2)\n",
        "    else:\n",
        "        cm=cm\n",
        "\n",
        "\n",
        "    thresh = cm.max() / 2.\n",
        "    for i, j in itertools.product(range(cm.shape[0]), range(cm.shape[1])):\n",
        "        plt.text(j, i, cm[i, j],\n",
        "                 horizontalalignment=\"center\",\n",
        "                 color=\"white\" if cm[i, j] > thresh else \"black\")\n",
        "\n",
        "    plt.tight_layout()\n",
        "    plt.ylabel('True label')\n",
        "    plt.xlabel('Predicted label')\n",
        "     \n"
      ],
      "metadata": {
        "id": "GIwyu1dIPBAB"
      },
      "execution_count": null,
      "outputs": []
    },
    {
      "cell_type": "markdown",
      "source": [
        "Hasil confusion matrix cukup bagus. Bila dilihat kebanyakan data berada di garis diagonal yang berarti hasil prediksi sesuai dengan label sebenarnya."
      ],
      "metadata": {
        "id": "lkvEKwR8UBCF"
      }
    },
    {
      "cell_type": "code",
      "source": [
        "np.set_printoptions(precision=2)\n",
        "\n",
        "fig1 = plt.figure(figsize=(37,14))\n",
        "plot_confusion_matrix(conf_mat, classes=classes, title='Confusion matrix, without normalization')\n",
        "plt.show()\n",
        "     "
      ],
      "metadata": {
        "id": "NFXNL88rPRv8"
      },
      "execution_count": null,
      "outputs": []
    },
    {
      "cell_type": "code",
      "source": [],
      "metadata": {
        "id": "QcPJW9wwVBQC"
      },
      "execution_count": null,
      "outputs": []
    }
  ]
}